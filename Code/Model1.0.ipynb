{
 "cells": [
  {
   "cell_type": "code",
   "execution_count": 2,
   "metadata": {},
   "outputs": [],
   "source": [
    "import numpy as np\n",
    "import pandas as pd"
   ]
  },
  {
   "cell_type": "markdown",
   "metadata": {},
   "source": [
    "# Creating the Pre-Processor Pipeline: Initial DataFrame\n",
    "\n",
    "This Pipeline will have 4 steps:\n",
    "\n",
    "- ColumnSelector: We select the 'counter_id' and 'date' features\n",
    "- DateFormatter : Separate the datetime column into separate features.<br> We then drop the original 'date' column\n",
    "- HolidaysFR: Adding a binary feature for french holiday dates and weekends\n",
    "- EncodeCounter: OneHotEncoding the 'counter_id' feature and then drop the original column."
   ]
  },
  {
   "cell_type": "code",
   "execution_count": 93,
   "metadata": {},
   "outputs": [],
   "source": [
    "from sklearn.base import BaseEstimator, TransformerMixin  \n",
    "#from sklearn.preprocessing import OneHotEncoder\n",
    "from sklearn.pipeline import Pipeline\n",
    "import holidays\n",
    "\n",
    "class ColumnSelector(BaseEstimator, TransformerMixin):\n",
    "\n",
    "    def fit(self, X, y=None):\n",
    "        return self\n",
    "    \n",
    "    def transform(self, X):\n",
    "        return X[['counter_id','date']]\n",
    "\n",
    "class DateFormatter(BaseEstimator, TransformerMixin):\n",
    "\n",
    "    def fit(self, X, y=None):\n",
    "        return self\n",
    "    \n",
    "    def transform(self, X):\n",
    "        X_copy = X.copy()\n",
    "        X_copy['date'] = pd.to_datetime(X_copy['date'])\n",
    "        X_copy['year'] = X_copy['date'].dt.year\n",
    "        X_copy['month'] = X_copy['date'].dt.month\n",
    "        X_copy['week'] = X_copy['date'].dt.isocalendar().week\n",
    "        X_copy['weekday'] = (X_copy['date'].dt.dayofweek + 1)\n",
    "        X_copy['day'] = X_copy['date'].dt.day\n",
    "        X_copy['hour'] = X_copy['date'].dt.hour\n",
    "        #X_copy['minute'] = X_copy['date'].dt.minute  # Not relevant\n",
    "        #X_copy.drop(columns='date', inplace=True)  # Will be dropped later, useful to keep to merge wither other dfs.\n",
    "        return X_copy\n",
    "\n",
    "\n",
    "class HolidaysFR(BaseEstimator, TransformerMixin):\n",
    "    def fit(self, X, y=None):\n",
    "        return self\n",
    "    \n",
    "    def transform(self, X):\n",
    "        is_holiday = lambda date: 1 if date in holidays.US() else 0\n",
    "        is_weekend = lambda day: 1 if day in (6,7) else 0\n",
    "        X_copy = X.copy()\n",
    "        X_copy['is_Holiday'] = X_copy['date'].apply(is_holiday)\n",
    "        X_copy['is_Weekend'] = X_copy['weekday'].apply(is_weekend)\n",
    "        X_copy.drop(columns='date', inplace=True)\n",
    "        return X_copy\n",
    "\n",
    "class EncodeCounter(BaseEstimator, TransformerMixin):\n",
    "\n",
    "    def fit(self, X, y=None):\n",
    "        return self\n",
    "    \n",
    "    def transform(self, X):\n",
    "        X_copy = X.copy()\n",
    "        X_copy = pd.get_dummies(X_copy, columns=['counter_id'], dtype=int, drop_first=True)\n",
    "        return X_copy\n",
    "    \n",
    "class MergeParisTemp(BaseEstimator, TransformerMixin):\n",
    "\n",
    "    def fit(self, X, y=None):\n",
    "        return self\n",
    "    \n",
    "    def transform(self, X):\n",
    "        X_copy = X.copy()\n",
    "        paris_temp = pd.read_csv(os.path.join(\"..\", \"Datasets\", \"meteo_paris_clean.csv\"))\n",
    "        X_copy['dateindex'] = X_copy['month'].astype(str) + X_copy['year'].astype(str) + X_copy['day'].astype(str)\n",
    "        #merged_data = pd.merge(X_copy, paris_temp, how='left', on='dateindex')\n",
    "        #merged_data.drop(columns='dateindex', inplace=True)\n",
    "        return X_copy\n",
    "\n",
    "preprocess = Pipeline([\n",
    "    (\"ColumnSelector\", ColumnSelector()),\n",
    "    (\"DateFormatter\", DateFormatter()),\n",
    "    (\"HolidaysFR\", HolidaysFR()),\n",
    "    #(\"EncodeCounter\", EncodeCounter()),\n",
    "    (\"MergeParisTemp\", MergeParisTemp())\n",
    "])        \n",
    "        \n"
   ]
  },
  {
   "cell_type": "code",
   "execution_count": 94,
   "metadata": {},
   "outputs": [],
   "source": [
    "\n",
    "import os\n",
    "\n",
    "df = pd.read_parquet(os.path.join(\"..\", \"Datasets\", \"train.parquet\"))\n",
    "\n",
    "X = preprocess.fit_transform(df)\n",
    "y = df['log_bike_count']"
   ]
  },
  {
   "cell_type": "code",
   "execution_count": 95,
   "metadata": {},
   "outputs": [
    {
     "data": {
      "text/html": [
       "<div>\n",
       "<style scoped>\n",
       "    .dataframe tbody tr th:only-of-type {\n",
       "        vertical-align: middle;\n",
       "    }\n",
       "\n",
       "    .dataframe tbody tr th {\n",
       "        vertical-align: top;\n",
       "    }\n",
       "\n",
       "    .dataframe thead th {\n",
       "        text-align: right;\n",
       "    }\n",
       "</style>\n",
       "<table border=\"1\" class=\"dataframe\">\n",
       "  <thead>\n",
       "    <tr style=\"text-align: right;\">\n",
       "      <th></th>\n",
       "      <th>counter_id</th>\n",
       "      <th>year</th>\n",
       "      <th>month</th>\n",
       "      <th>week</th>\n",
       "      <th>weekday</th>\n",
       "      <th>day</th>\n",
       "      <th>hour</th>\n",
       "      <th>is_Holiday</th>\n",
       "      <th>is_Weekend</th>\n",
       "      <th>dateindex</th>\n",
       "    </tr>\n",
       "  </thead>\n",
       "  <tbody>\n",
       "    <tr>\n",
       "      <th>48321</th>\n",
       "      <td>100007049-102007049</td>\n",
       "      <td>2020</td>\n",
       "      <td>9</td>\n",
       "      <td>36</td>\n",
       "      <td>2</td>\n",
       "      <td>1</td>\n",
       "      <td>2</td>\n",
       "      <td>0</td>\n",
       "      <td>0</td>\n",
       "      <td>920201</td>\n",
       "    </tr>\n",
       "    <tr>\n",
       "      <th>48324</th>\n",
       "      <td>100007049-102007049</td>\n",
       "      <td>2020</td>\n",
       "      <td>9</td>\n",
       "      <td>36</td>\n",
       "      <td>2</td>\n",
       "      <td>1</td>\n",
       "      <td>3</td>\n",
       "      <td>0</td>\n",
       "      <td>0</td>\n",
       "      <td>920201</td>\n",
       "    </tr>\n",
       "    <tr>\n",
       "      <th>48327</th>\n",
       "      <td>100007049-102007049</td>\n",
       "      <td>2020</td>\n",
       "      <td>9</td>\n",
       "      <td>36</td>\n",
       "      <td>2</td>\n",
       "      <td>1</td>\n",
       "      <td>4</td>\n",
       "      <td>0</td>\n",
       "      <td>0</td>\n",
       "      <td>920201</td>\n",
       "    </tr>\n",
       "    <tr>\n",
       "      <th>48330</th>\n",
       "      <td>100007049-102007049</td>\n",
       "      <td>2020</td>\n",
       "      <td>9</td>\n",
       "      <td>36</td>\n",
       "      <td>2</td>\n",
       "      <td>1</td>\n",
       "      <td>15</td>\n",
       "      <td>0</td>\n",
       "      <td>0</td>\n",
       "      <td>920201</td>\n",
       "    </tr>\n",
       "    <tr>\n",
       "      <th>48333</th>\n",
       "      <td>100007049-102007049</td>\n",
       "      <td>2020</td>\n",
       "      <td>9</td>\n",
       "      <td>36</td>\n",
       "      <td>2</td>\n",
       "      <td>1</td>\n",
       "      <td>18</td>\n",
       "      <td>0</td>\n",
       "      <td>0</td>\n",
       "      <td>920201</td>\n",
       "    </tr>\n",
       "  </tbody>\n",
       "</table>\n",
       "</div>"
      ],
      "text/plain": [
       "                counter_id  year  month  week  weekday  day  hour  is_Holiday  \\\n",
       "48321  100007049-102007049  2020      9    36        2    1     2           0   \n",
       "48324  100007049-102007049  2020      9    36        2    1     3           0   \n",
       "48327  100007049-102007049  2020      9    36        2    1     4           0   \n",
       "48330  100007049-102007049  2020      9    36        2    1    15           0   \n",
       "48333  100007049-102007049  2020      9    36        2    1    18           0   \n",
       "\n",
       "       is_Weekend dateindex  \n",
       "48321           0    920201  \n",
       "48324           0    920201  \n",
       "48327           0    920201  \n",
       "48330           0    920201  \n",
       "48333           0    920201  "
      ]
     },
     "execution_count": 95,
     "metadata": {},
     "output_type": "execute_result"
    }
   ],
   "source": [
    "X.head()"
   ]
  },
  {
   "cell_type": "code",
   "execution_count": 75,
   "metadata": {},
   "outputs": [
    {
     "data": {
      "text/plain": [
       "929175    6.100319\n",
       "929178    4.983607\n",
       "929181    5.389072\n",
       "929184    3.091042\n",
       "929187    2.772589\n",
       "Name: log_bike_count, dtype: float64"
      ]
     },
     "execution_count": 75,
     "metadata": {},
     "output_type": "execute_result"
    }
   ],
   "source": [
    "y.tail()"
   ]
  },
  {
   "cell_type": "code",
   "execution_count": 33,
   "metadata": {},
   "outputs": [
    {
     "name": "stdout",
     "output_type": "stream",
     "text": [
      "Root Mean Squared Error: 1.4309047221032432\n",
      "[       nan        nan 0.34284475 0.28480679 0.24636465]\n"
     ]
    },
    {
     "name": "stderr",
     "output_type": "stream",
     "text": [
      "C:\\Users\\nadiy\\AppData\\Local\\Temp\\ipykernel_12592\\2393197436.py:37: RuntimeWarning: invalid value encountered in sqrt\n",
      "  print(np.sqrt(score))\n"
     ]
    }
   ],
   "source": [
    "# Import necessary libraries\n",
    "from sklearn.model_selection import train_test_split\n",
    "from sklearn.linear_model import LinearRegression\n",
    "from sklearn.metrics import mean_squared_error\n",
    "from sklearn.model_selection import cross_val_score\n",
    "\n",
    "# Setting seed\n",
    "np.random.seed(42)\n",
    "\n",
    "# Split the data into training and testing sets\n",
    "X_train, X_test, y_train, y_test = train_test_split(X, y, test_size=0.2, random_state=42)\n",
    "\n",
    "# Initialize the Linear Regression model\n",
    "model = LinearRegression()\n",
    "\n",
    "# Fit the model on the training data\n",
    "model.fit(X_train, y_train)\n",
    "\n",
    "# Make predictions on the test set\n",
    "y_pred = model.predict(X_test)\n",
    "\n",
    "# Evaluate the model\n",
    "mse = mean_squared_error(y_test, y_pred)\n",
    "rmse = np.sqrt(mse)\n",
    "\n",
    "# Print the model coefficients and evaluation metrics\n",
    "#print(\"Coefficients:\", model.coef_)\n",
    "#print(\"Intercept:\", model.intercept_)\n",
    "print(\"Root Mean Squared Error:\", rmse)"
   ]
  },
  {
   "cell_type": "markdown",
   "metadata": {},
   "source": [
    "Now, let us train on the entire training set, and predict on the test set"
   ]
  },
  {
   "cell_type": "code",
   "execution_count": 100,
   "metadata": {},
   "outputs": [],
   "source": [
    "# Fit on the full train set:\n",
    "X = preprocess.fit_transform(df)\n",
    "y = df['log_bike_count']\n",
    "\n",
    "\n",
    "# Initialize the Linear Regression model\n",
    "model = LinearRegression()\n",
    "\n",
    "# Fit the model on the training data\n",
    "model.fit(X,y)\n",
    "\n",
    "\n",
    "# Import test set\n",
    "df_test = pd.read_parquet(os.path.join(\"..\", \"Datasets\", \"final_test.parquet\"))\n",
    "\n",
    "df_test = preprocess.fit_transform(df_test)\n",
    "predictions = model.predict(df_test)\n",
    "\n",
    "# Store predictions in pandas DataFrame:\n",
    "predictions = pd.DataFrame({'Id': range(0, len(predictions)), 'log_bike_count': predictions})\n",
    "\n",
    "\n",
    "# Specify the file path\n",
    "csv_file_path = 'submission.csv'\n",
    "\n",
    "# Write the DataFrame to a CSV file\n",
    "predictions.to_csv(csv_file_path, index=False)\n"
   ]
  },
  {
   "cell_type": "markdown",
   "metadata": {},
   "source": [
    "Adding more data to our prediction: Weather"
   ]
  },
  {
   "cell_type": "markdown",
   "metadata": {},
   "source": [
    "The aim of the below section is to add the following features to our current model:\n",
    "- Paris Precipitation Data based on Date:<br>This data was Encoded into 3 levels of precipitation<br>More details are available in the data_notes and data_preprocessing notebook."
   ]
  },
  {
   "cell_type": "markdown",
   "metadata": {},
   "source": []
  }
 ],
 "metadata": {
  "kernelspec": {
   "display_name": "Python 3 (ipykernel)",
   "language": "python",
   "name": "python3"
  },
  "language_info": {
   "codemirror_mode": {
    "name": "ipython",
    "version": 3
   },
   "file_extension": ".py",
   "mimetype": "text/x-python",
   "name": "python",
   "nbconvert_exporter": "python",
   "pygments_lexer": "ipython3",
   "version": "3.11.4"
  }
 },
 "nbformat": 4,
 "nbformat_minor": 2
}
