{
 "cells": [
  {
   "cell_type": "code",
   "execution_count": 1,
   "metadata": {},
   "outputs": [],
   "source": [
    "import pandas as pd \n",
    "import numpy as np\n",
    "import matplotlib.pyplot as plt\n",
    "import os"
   ]
  },
  {
   "cell_type": "code",
   "execution_count": 14,
   "metadata": {},
   "outputs": [],
   "source": [
    "covid_data = pd.read_csv(os.path.join(\"..\", \"Datasets\", \"covid_iledefrance.csv\"))\n",
    "test_frame = pd.read_parquet(os.path.join(\"..\", \"Datasets\", \"train.parquet\"))"
   ]
  },
  {
   "cell_type": "code",
   "execution_count": 15,
   "metadata": {},
   "outputs": [],
   "source": [
    "test_frame_target = test_frame[['date','log_bike_count']]"
   ]
  },
  {
   "cell_type": "code",
   "execution_count": 31,
   "metadata": {},
   "outputs": [
    {
     "name": "stderr",
     "output_type": "stream",
     "text": [
      "C:\\Users\\35387\\AppData\\Local\\Temp\\ipykernel_15584\\4274184649.py:1: SettingWithCopyWarning: \n",
      "A value is trying to be set on a copy of a slice from a DataFrame.\n",
      "Try using .loc[row_indexer,col_indexer] = value instead\n",
      "\n",
      "See the caveats in the documentation: https://pandas.pydata.org/pandas-docs/stable/user_guide/indexing.html#returning-a-view-versus-a-copy\n",
      "  test_frame_target['date'] = pd.to_datetime(test_frame_target['date'])\n",
      "C:\\Users\\35387\\AppData\\Local\\Temp\\ipykernel_15584\\4274184649.py:4: SettingWithCopyWarning: \n",
      "A value is trying to be set on a copy of a slice from a DataFrame.\n",
      "Try using .loc[row_indexer,col_indexer] = value instead\n",
      "\n",
      "See the caveats in the documentation: https://pandas.pydata.org/pandas-docs/stable/user_guide/indexing.html#returning-a-view-versus-a-copy\n",
      "  test_frame_target['day'] = test_frame_target['date'].dt.date\n"
     ]
    }
   ],
   "source": [
    "test_frame_target['date'] = pd.to_datetime(test_frame_target['date'])\n",
    "\n",
    "# Extract date without considering the time component\n",
    "test_frame_target['day'] = test_frame_target['date'].dt.date\n",
    "\n",
    "# Group by the 'day' and sum the 'log_bike_count'\n",
    "daily_sum = test_frame_target.groupby('day')['log_bike_count'].sum().reset_index()\n",
    "daily_sum.set_index('day', inplace=True)\n"
   ]
  },
  {
   "cell_type": "code",
   "execution_count": 25,
   "metadata": {},
   "outputs": [],
   "source": [
    "covid_data['date'] = pd.to_datetime(covid_data['date'])\n",
    "covid_summed = covid_data.groupby('date').sum(numeric_only=True).reset_index()\n",
    "covid_summed.drop(['dep','reg'], axis=1, inplace=True)  # These have become meaningless\n",
    "covid_summed.set_index('date', inplace=True)"
   ]
  },
  {
   "cell_type": "code",
   "execution_count": 26,
   "metadata": {},
   "outputs": [
    {
     "data": {
      "text/plain": [
       "(1200, 17)"
      ]
     },
     "execution_count": 26,
     "metadata": {},
     "output_type": "execute_result"
    }
   ],
   "source": [
    "covid_summed.shape"
   ]
  },
  {
   "cell_type": "code",
   "execution_count": 27,
   "metadata": {},
   "outputs": [
    {
     "data": {
      "text/plain": [
       "(9600, 22)"
      ]
     },
     "execution_count": 27,
     "metadata": {},
     "output_type": "execute_result"
    }
   ],
   "source": [
    "covid_data.shape"
   ]
  },
  {
   "cell_type": "code",
   "execution_count": 33,
   "metadata": {},
   "outputs": [],
   "source": [
    "merged_frame = pd.merge(daily_sum, covid_summed, left_index=True, right_index=True, how='inner')\n"
   ]
  },
  {
   "cell_type": "code",
   "execution_count": 36,
   "metadata": {},
   "outputs": [],
   "source": [
    "column_of_interest = 'log_bike_count'\n",
    "\n",
    "# Calculate the correlation matrix\n",
    "correlation_matrix = merged_frame.corr()\n",
    "\n",
    "# Display the correlations of the chosen column with all other columns\n",
    "correlations_with_column = correlation_matrix[column_of_interest]"
   ]
  },
  {
   "cell_type": "code",
   "execution_count": 37,
   "metadata": {},
   "outputs": [
    {
     "data": {
      "text/plain": [
       "log_bike_count    1.000000\n",
       "tx_pos           -0.301409\n",
       "tx_incid         -0.272389\n",
       "TO               -0.351145\n",
       "R                -0.047457\n",
       "hosp             -0.561063\n",
       "rea              -0.351145\n",
       "rad               0.280755\n",
       "dchosp            0.256788\n",
       "reg_rea          -0.351145\n",
       "incid_hosp       -0.285313\n",
       "incid_rea        -0.227526\n",
       "incid_rad        -0.138725\n",
       "incid_dchosp     -0.371013\n",
       "reg_incid_rea    -0.227526\n",
       "pos              -0.010996\n",
       "pos_7j           -0.267003\n",
       "cv_dose1               NaN\n",
       "Name: log_bike_count, dtype: float64"
      ]
     },
     "execution_count": 37,
     "metadata": {},
     "output_type": "execute_result"
    }
   ],
   "source": [
    "correlations_with_column"
   ]
  },
  {
   "cell_type": "code",
   "execution_count": null,
   "metadata": {},
   "outputs": [],
   "source": [
    "# ok we will fit on incid_dchosp\n",
    "\n",
    "### Preparing to build the class"
   ]
  }
 ],
 "metadata": {
  "kernelspec": {
   "display_name": "base",
   "language": "python",
   "name": "python3"
  },
  "language_info": {
   "codemirror_mode": {
    "name": "ipython",
    "version": 3
   },
   "file_extension": ".py",
   "mimetype": "text/x-python",
   "name": "python",
   "nbconvert_exporter": "python",
   "pygments_lexer": "ipython3",
   "version": "3.11.4"
  }
 },
 "nbformat": 4,
 "nbformat_minor": 2
}
