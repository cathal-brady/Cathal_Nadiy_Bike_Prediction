{
 "cells": [
  {
   "cell_type": "code",
   "execution_count": 42,
   "metadata": {},
   "outputs": [],
   "source": [
    "import pandas as pd \n",
    "import numpy as np \n",
    "import os\n",
    "import datetime as dt\n",
    "import matplotlib.pyplot as plt\n",
    "import seaborn as sns\n",
    "sns.set(style = 'darkgrid')\n",
    "\n",
    "# Loading the data\n",
    "meteo_orly = pd.read_csv(os.path.join(\"..\", \"Datasets\", \"meteo_orly.csv\"))\n",
    "meteo_paris = pd.read_csv(os.path.join(\"..\", \"Datasets\", \"meteo_paris.csv\"))"
   ]
  },
  {
   "cell_type": "code",
   "execution_count": 43,
   "metadata": {},
   "outputs": [
    {
     "name": "stdout",
     "output_type": "stream",
     "text": [
      "Minimum Date Orly: 2020-09-01 00:00:00\n",
      "Maximum Date Orly: 2021-10-21 12:00:00\n",
      "Minimum Date Paris: 2020-09-01 00:00:00\n",
      "Maximum Date Paris: 2021-11-30 00:00:00\n"
     ]
    }
   ],
   "source": [
    "# Checking Date Range for both Datasets:\n",
    "\n",
    "meteo_orly['date'] = pd.to_datetime(meteo_orly['date'])\n",
    "print(\"Minimum Date Orly:\", meteo_orly['date'].min())\n",
    "print(\"Maximum Date Orly:\", meteo_orly['date'].max())\n",
    "\n",
    "meteo_paris['datetime'] = pd.to_datetime(meteo_paris['datetime'])\n",
    "print(\"Minimum Date Paris:\", meteo_paris['datetime'].min())\n",
    "print(\"Maximum Date Paris:\", meteo_paris['datetime'].max())\n",
    "\n"
   ]
  },
  {
   "cell_type": "markdown",
   "metadata": {},
   "source": [
    "We will be selecting the below features from meteo_paris:\n",
    "- datetime\n",
    "- precip, scaled\n",
    "- visibility, scaled\n",
    "- icon, which is a description of the general weather conditions of the day. (muted for now)\n",
    "\n",
    "<strong>NOTE: AT THIS STAGE WE ARE TAKING DAILY DATA WITHOUT CONSIDERING THE STATION IT COMES FROM"
   ]
  },
  {
   "cell_type": "code",
   "execution_count": 44,
   "metadata": {},
   "outputs": [],
   "source": [
    "from sklearn.base import BaseEstimator, TransformerMixin  \n",
    "from sklearn.pipeline import Pipeline\n",
    "from sklearn.preprocessing import StandardScaler\n",
    "\n",
    "class ColumnSelectorParis(BaseEstimator, TransformerMixin):\n",
    "\n",
    "    def fit(self, X, y=None):\n",
    "        return self\n",
    "    \n",
    "    def transform(self, X):\n",
    "        X_slice = X[['datetime','precip','visibility']] #'icon'\n",
    "        X_slice = X_slice.rename(columns={'precip': 'precipitation', 'datetime': 'date'})\n",
    "        return X_slice\n",
    "\n",
    "class ScaleNumericalParis(BaseEstimator, TransformerMixin):\n",
    "\n",
    "    def fit(self, X, y=None):\n",
    "        return self\n",
    "    \n",
    "    def transform(self, X):\n",
    "        X_scaled = X.copy()\n",
    "        scaler = StandardScaler()\n",
    "        numerical_columns = X.select_dtypes(include='number').columns\n",
    "        X_scaled[numerical_columns] = scaler.fit_transform(X[numerical_columns])\n",
    "        return X_scaled\n",
    "\n",
    "paris_preprocess = Pipeline([\n",
    "    (\"ColumnSelectorParis\", ColumnSelectorParis()),\n",
    "    (\"ScaleNumericalParis\", ScaleNumericalParis()),\n",
    "])        \n",
    "        "
   ]
  },
  {
   "cell_type": "code",
   "execution_count": 45,
   "metadata": {},
   "outputs": [],
   "source": [
    "paris_clean = paris_preprocess.fit_transform(meteo_paris)"
   ]
  },
  {
   "cell_type": "markdown",
   "metadata": {},
   "source": [
    "We now tackle the Orly dataset, from we select to following features:\n",
    "- Date\n",
    "- Temperature, scaled\n",
    "\n",
    "To merge the data, we will need this dataset to be sorted by increasing date"
   ]
  },
  {
   "cell_type": "code",
   "execution_count": 46,
   "metadata": {},
   "outputs": [],
   "source": [
    "class ColumnSelectorOrly(BaseEstimator, TransformerMixin):\n",
    "\n",
    "    def fit(self, X, y=None):\n",
    "        return self\n",
    "    \n",
    "    def transform(self, X):\n",
    "        X_slice = X[['date','t', 'rr1']]\n",
    "        X_slice = X_slice.rename(columns={'t': 'temperature', 'rr1': 'precip'})\n",
    "        return X_slice\n",
    "\n",
    "class ScaleNumericalOrly(BaseEstimator, TransformerMixin):\n",
    "\n",
    "    def fit(self, X, y=None):\n",
    "        return self\n",
    "    \n",
    "    def transform(self, X):\n",
    "        X_scaled = X.copy()\n",
    "        scaler = StandardScaler()\n",
    "        numerical_columns = X.select_dtypes(include='number').columns\n",
    "        X_scaled[numerical_columns] = scaler.fit_transform(X[numerical_columns])\n",
    "        return X_scaled\n",
    "\n",
    "class SortDateOrly(BaseEstimator, TransformerMixin):\n",
    "\n",
    "    def fit(self, X, y=None):\n",
    "        return self\n",
    "    \n",
    "    def transform(self, X):\n",
    "        return X.sort_values('date')\n",
    "\n",
    "orly_preprocess = Pipeline([\n",
    "    (\"ColumnSelectorOrly\", ColumnSelectorOrly()),\n",
    "    (\"ScaleNumericalOrly\", ScaleNumericalOrly()),\n",
    "    (\"SortDateOrly\", SortDateOrly())\n",
    "])        \n",
    "        "
   ]
  },
  {
   "cell_type": "code",
   "execution_count": 47,
   "metadata": {},
   "outputs": [],
   "source": [
    "orly_clean = orly_preprocess.fit_transform(meteo_orly)"
   ]
  },
  {
   "cell_type": "code",
   "execution_count": 48,
   "metadata": {},
   "outputs": [
    {
     "name": "stdout",
     "output_type": "stream",
     "text": [
      "<class 'pandas.core.frame.DataFrame'>\n",
      "Int64Index: 3322 entries, 3082 to 411\n",
      "Data columns (total 3 columns):\n",
      " #   Column       Non-Null Count  Dtype         \n",
      "---  ------       --------------  -----         \n",
      " 0   date         3322 non-null   datetime64[ns]\n",
      " 1   temperature  3322 non-null   float64       \n",
      " 2   precip       3313 non-null   float64       \n",
      "dtypes: datetime64[ns](1), float64(2)\n",
      "memory usage: 103.8 KB\n"
     ]
    }
   ],
   "source": [
    "orly_clean.info()"
   ]
  },
  {
   "cell_type": "code",
   "execution_count": 49,
   "metadata": {},
   "outputs": [],
   "source": [
    "orly_clean.dropna(inplace=True)"
   ]
  },
  {
   "cell_type": "code",
   "execution_count": 50,
   "metadata": {},
   "outputs": [
    {
     "name": "stdout",
     "output_type": "stream",
     "text": [
      "<class 'pandas.core.frame.DataFrame'>\n",
      "RangeIndex: 456 entries, 0 to 455\n",
      "Data columns (total 3 columns):\n",
      " #   Column         Non-Null Count  Dtype         \n",
      "---  ------         --------------  -----         \n",
      " 0   date           456 non-null    datetime64[ns]\n",
      " 1   precipitation  456 non-null    float64       \n",
      " 2   visibility     456 non-null    float64       \n",
      "dtypes: datetime64[ns](1), float64(2)\n",
      "memory usage: 10.8 KB\n"
     ]
    }
   ],
   "source": [
    "paris_clean.info()"
   ]
  },
  {
   "cell_type": "markdown",
   "metadata": {},
   "source": [
    "We can now merge the datasets, and export a csv file that we will use to augment our existing design matrix."
   ]
  },
  {
   "cell_type": "code",
   "execution_count": 51,
   "metadata": {},
   "outputs": [],
   "source": [
    "merged_data = pd.merge_asof(orly_clean, paris_clean, on='date')\n",
    "\n",
    "merged_data.drop(['precipitation', 'visibility'], axis=1, inplace=True)\n",
    "\n",
    "merged_data.to_csv(os.path.join(\"..\", \"Datasets\", \"weather_data_cleaned.csv\"), index=False)\n"
   ]
  },
  {
   "cell_type": "markdown",
   "metadata": {},
   "source": [
    "## Now we look at Covid-19 cases"
   ]
  },
  {
   "cell_type": "code",
   "execution_count": 52,
   "metadata": {},
   "outputs": [],
   "source": [
    "covid_data = pd.read_csv(os.path.join(\"..\", \"Datasets\", \"covid_iledefrance.csv\"))\n",
    "covid_data['date'] = pd.to_datetime(data['date']).astype('datetime64[us]')\n",
    "covid_data = covid_data.groupby('date').sum(numeric_only=True).reset_index()\n",
    "covid_data.drop(['dep','reg'], axis=1, inplace=True)  # These have become meaningless\n",
    "covid_data.dropna(inplace=True)"
   ]
  },
  {
   "cell_type": "code",
   "execution_count": 53,
   "metadata": {},
   "outputs": [],
   "source": [
    "class ColumnSelectorCovid(BaseEstimator, TransformerMixin):\n",
    "\n",
    "    def fit(self, X, y=None):\n",
    "        return self\n",
    "    \n",
    "    def transform(self, X):\n",
    "        X_slice = X[['date','incid_dchosp']]\n",
    "        X_slice = X_slice.rename(columns={'incid_dchosp': 'covid_deaths'})\n",
    "        return X_slice\n",
    "\n",
    "class ScaleNumericalCovid(BaseEstimator, TransformerMixin):\n",
    "\n",
    "    def fit(self, X, y=None):\n",
    "        return self\n",
    "    \n",
    "    def transform(self, X):\n",
    "        X_scaled = X.copy()\n",
    "        scaler = StandardScaler()\n",
    "        numerical_columns = X.select_dtypes(include='number').columns\n",
    "        X_scaled[numerical_columns] = scaler.fit_transform(X[numerical_columns])\n",
    "        return X_scaled\n",
    "\n",
    "class SortDateCovid(BaseEstimator, TransformerMixin):\n",
    "\n",
    "    def fit(self, X, y=None):\n",
    "        return self\n",
    "    \n",
    "    def transform(self, X):\n",
    "        return X.sort_values('date')\n",
    "\n",
    "covid_preprocess = Pipeline([\n",
    "    (\"ColumnSelectorCovid\", ColumnSelectorCovid()),\n",
    "    (\"ScaleNumericalCovid\", ScaleNumericalCovid()),\n",
    "    (\"SortDateCovid\", SortDateCovid())\n",
    "])        \n",
    "        "
   ]
  },
  {
   "cell_type": "code",
   "execution_count": 54,
   "metadata": {},
   "outputs": [],
   "source": [
    "covid_clean = covid_preprocess.fit_transform(covid_data)"
   ]
  },
  {
   "cell_type": "code",
   "execution_count": 55,
   "metadata": {},
   "outputs": [],
   "source": [
    "#merged_data.drop(['precipitation', 'visibility'], axis=1, inplace=True)\n",
    "\n",
    "covid_weather = pd.merge_asof(merged_data, covid_clean, on='date')\n",
    "\n",
    "covid_weather.to_csv(os.path.join(\"..\", \"Datasets\", \"weather_covid_data_cleaned.csv\"), index=False)\n"
   ]
  },
  {
   "cell_type": "code",
   "execution_count": 57,
   "metadata": {},
   "outputs": [
    {
     "data": {
      "text/html": [
       "<div>\n",
       "<style scoped>\n",
       "    .dataframe tbody tr th:only-of-type {\n",
       "        vertical-align: middle;\n",
       "    }\n",
       "\n",
       "    .dataframe tbody tr th {\n",
       "        vertical-align: top;\n",
       "    }\n",
       "\n",
       "    .dataframe thead th {\n",
       "        text-align: right;\n",
       "    }\n",
       "</style>\n",
       "<table border=\"1\" class=\"dataframe\">\n",
       "  <thead>\n",
       "    <tr style=\"text-align: right;\">\n",
       "      <th></th>\n",
       "      <th>date</th>\n",
       "      <th>temperature</th>\n",
       "      <th>precip</th>\n",
       "      <th>covid_deaths</th>\n",
       "    </tr>\n",
       "  </thead>\n",
       "  <tbody>\n",
       "    <tr>\n",
       "      <th>0</th>\n",
       "      <td>2020-09-01 00:00:00</td>\n",
       "      <td>-0.018670</td>\n",
       "      <td>-0.155221</td>\n",
       "      <td>-0.301202</td>\n",
       "    </tr>\n",
       "    <tr>\n",
       "      <th>1</th>\n",
       "      <td>2020-09-01 03:00:00</td>\n",
       "      <td>-0.281418</td>\n",
       "      <td>-0.155221</td>\n",
       "      <td>-0.301202</td>\n",
       "    </tr>\n",
       "    <tr>\n",
       "      <th>2</th>\n",
       "      <td>2020-09-01 06:00:00</td>\n",
       "      <td>-0.237627</td>\n",
       "      <td>-0.155221</td>\n",
       "      <td>-0.301202</td>\n",
       "    </tr>\n",
       "    <tr>\n",
       "      <th>3</th>\n",
       "      <td>2020-09-01 09:00:00</td>\n",
       "      <td>0.784171</td>\n",
       "      <td>-0.155221</td>\n",
       "      <td>-0.301202</td>\n",
       "    </tr>\n",
       "    <tr>\n",
       "      <th>4</th>\n",
       "      <td>2020-09-01 12:00:00</td>\n",
       "      <td>1.178293</td>\n",
       "      <td>-0.155221</td>\n",
       "      <td>-0.301202</td>\n",
       "    </tr>\n",
       "    <tr>\n",
       "      <th>...</th>\n",
       "      <td>...</td>\n",
       "      <td>...</td>\n",
       "      <td>...</td>\n",
       "      <td>...</td>\n",
       "    </tr>\n",
       "    <tr>\n",
       "      <th>3308</th>\n",
       "      <td>2021-10-21 00:00:00</td>\n",
       "      <td>0.171092</td>\n",
       "      <td>-0.155221</td>\n",
       "      <td>-0.664948</td>\n",
       "    </tr>\n",
       "    <tr>\n",
       "      <th>3309</th>\n",
       "      <td>2021-10-21 03:00:00</td>\n",
       "      <td>0.025121</td>\n",
       "      <td>-0.352705</td>\n",
       "      <td>-0.664948</td>\n",
       "    </tr>\n",
       "    <tr>\n",
       "      <th>3310</th>\n",
       "      <td>2021-10-21 06:00:00</td>\n",
       "      <td>-0.266821</td>\n",
       "      <td>-0.155221</td>\n",
       "      <td>-0.664948</td>\n",
       "    </tr>\n",
       "    <tr>\n",
       "      <th>3311</th>\n",
       "      <td>2021-10-21 09:00:00</td>\n",
       "      <td>0.025121</td>\n",
       "      <td>-0.155221</td>\n",
       "      <td>-0.664948</td>\n",
       "    </tr>\n",
       "    <tr>\n",
       "      <th>3312</th>\n",
       "      <td>2021-10-21 12:00:00</td>\n",
       "      <td>0.054315</td>\n",
       "      <td>1.029680</td>\n",
       "      <td>-0.664948</td>\n",
       "    </tr>\n",
       "  </tbody>\n",
       "</table>\n",
       "<p>3313 rows × 4 columns</p>\n",
       "</div>"
      ],
      "text/plain": [
       "                    date  temperature    precip  covid_deaths\n",
       "0    2020-09-01 00:00:00    -0.018670 -0.155221     -0.301202\n",
       "1    2020-09-01 03:00:00    -0.281418 -0.155221     -0.301202\n",
       "2    2020-09-01 06:00:00    -0.237627 -0.155221     -0.301202\n",
       "3    2020-09-01 09:00:00     0.784171 -0.155221     -0.301202\n",
       "4    2020-09-01 12:00:00     1.178293 -0.155221     -0.301202\n",
       "...                  ...          ...       ...           ...\n",
       "3308 2021-10-21 00:00:00     0.171092 -0.155221     -0.664948\n",
       "3309 2021-10-21 03:00:00     0.025121 -0.352705     -0.664948\n",
       "3310 2021-10-21 06:00:00    -0.266821 -0.155221     -0.664948\n",
       "3311 2021-10-21 09:00:00     0.025121 -0.155221     -0.664948\n",
       "3312 2021-10-21 12:00:00     0.054315  1.029680     -0.664948\n",
       "\n",
       "[3313 rows x 4 columns]"
      ]
     },
     "execution_count": 57,
     "metadata": {},
     "output_type": "execute_result"
    }
   ],
   "source": [
    "covid_weather"
   ]
  }
 ],
 "metadata": {
  "kernelspec": {
   "display_name": "base",
   "language": "python",
   "name": "python3"
  },
  "language_info": {
   "codemirror_mode": {
    "name": "ipython",
    "version": 3
   },
   "file_extension": ".py",
   "mimetype": "text/x-python",
   "name": "python",
   "nbconvert_exporter": "python",
   "pygments_lexer": "ipython3",
   "version": "3.11.4"
  }
 },
 "nbformat": 4,
 "nbformat_minor": 2
}
