{
 "cells": [
  {
   "cell_type": "code",
   "execution_count": 19,
   "metadata": {},
   "outputs": [],
   "source": [
    "import numpy as np\n",
    "import pandas as pd"
   ]
  },
  {
   "cell_type": "markdown",
   "metadata": {},
   "source": [
    "# Creating the Pre-Processor Pipeline\n",
    "\n",
    "This Pipeline will have 3 steps:\n",
    "\n",
    "- ColumnSelector: We select the 'counter_id' and 'date' features\n",
    "- DateFormatter : Separate the datetime column into separate features.<br> We then drop the original 'date' column\n",
    "- EncodeCounter: OneHotEncoding the 'counter_id' feature and then drop the original column."
   ]
  },
  {
   "cell_type": "code",
   "execution_count": 88,
   "metadata": {},
   "outputs": [],
   "source": [
    "from sklearn.base import BaseEstimator, TransformerMixin  \n",
    "from sklearn.preprocessing import OneHotEncoder\n",
    "from sklearn.pipeline import Pipeline\n",
    "\n",
    "class ColumnSelector(BaseEstimator, TransformerMixin):\n",
    "\n",
    "    def fit(self, X, y=None):\n",
    "        return self\n",
    "    \n",
    "    def transform(self, X):\n",
    "        return X[['counter_id','date']]\n",
    "\n",
    "class DateFormatter(BaseEstimator, TransformerMixin):\n",
    "\n",
    "    def fit(self, X, y=None):\n",
    "        return self\n",
    "    \n",
    "    def transform(self, X):\n",
    "        X_copy = X.copy()\n",
    "        X_copy['date'] = pd.to_datetime(X_copy['date'])\n",
    "        X_copy['year'] = X_copy['date'].dt.year\n",
    "        X_copy['month'] = X_copy['date'].dt.month\n",
    "        X_copy['week'] = X_copy['date'].dt.isocalendar().week\n",
    "        X_copy['day'] = X_copy['date'].dt.day\n",
    "        X_copy['hour'] = X_copy['date'].dt.hour\n",
    "        X_copy['minute'] = X_copy['date'].dt.minute\n",
    "        X_copy.drop(columns='date', inplace=True)\n",
    "        return X_copy\n",
    "\n",
    "\n",
    "class EncodeCounter(BaseEstimator, TransformerMixin):\n",
    "\n",
    "    def fit(self, X, y=None):\n",
    "        return self\n",
    "    \n",
    "    def transform(self, X):\n",
    "        X_copy = X.copy()\n",
    "        X_copy = pd.get_dummies(X_copy, columns=['counter_id'], dtype=int)\n",
    "        return X_copy\n",
    "\n",
    "\n",
    "\n",
    "\n",
    "preprocess = Pipeline([\n",
    "    (\"ColumnSelector\", ColumnSelector()),\n",
    "    (\"DateFormatter\", DateFormatter()),\n",
    "    (\"EncodeCounter\", EncodeCounter())\n",
    "])        \n",
    "        \n"
   ]
  },
  {
   "cell_type": "code",
   "execution_count": 89,
   "metadata": {},
   "outputs": [],
   "source": [
    "\n",
    "import os\n",
    "\n",
    "df = pd.read_parquet(os.path.join(\"..\", \"Datasets\", \"train.parquet\"))\n"
   ]
  },
  {
   "cell_type": "code",
   "execution_count": 95,
   "metadata": {},
   "outputs": [
    {
     "name": "stdout",
     "output_type": "stream",
     "text": [
      "Root Mean Squared Error: 1.4367991504850186\n"
     ]
    }
   ],
   "source": [
    "X = preprocess.fit_transform(df)\n",
    "y = df['log_bike_count']\n",
    "\n",
    "# Import necessary libraries\n",
    "from sklearn.model_selection import train_test_split\n",
    "from sklearn.linear_model import LinearRegression\n",
    "from sklearn.metrics import mean_squared_error\n",
    "\n",
    "# Split the data into training and testing sets\n",
    "X_train, X_test, y_train, y_test = train_test_split(X, y, test_size=0.2, random_state=42)\n",
    "\n",
    "# Initialize the Linear Regression model\n",
    "model = LinearRegression()\n",
    "\n",
    "# Fit the model on the training data\n",
    "model.fit(X_train, y_train)\n",
    "\n",
    "# Make predictions on the test set\n",
    "y_pred = model.predict(X_test)\n",
    "\n",
    "# Evaluate the model\n",
    "mse = mean_squared_error(y_test, y_pred)\n",
    "rmse = np.sqrt(mse)\n",
    "\n",
    "# Print the model coefficients and evaluation metrics\n",
    "#print(\"Coefficients:\", model.coef_)\n",
    "#print(\"Intercept:\", model.intercept_)\n",
    "print(\"Root Mean Squared Error:\", rmse)\n"
   ]
  },
  {
   "cell_type": "markdown",
   "metadata": {},
   "source": [
    "Now, let us train on the entire training set, and predict on the test set"
   ]
  },
  {
   "cell_type": "code",
   "execution_count": 100,
   "metadata": {},
   "outputs": [],
   "source": [
    "# Fit on the full train set:\n",
    "X = preprocess.fit_transform(df)\n",
    "y = df['log_bike_count']\n",
    "\n",
    "\n",
    "# Initialize the Linear Regression model\n",
    "model = LinearRegression()\n",
    "\n",
    "# Fit the model on the training data\n",
    "model.fit(X,y)\n",
    "\n",
    "\n",
    "# Import test set\n",
    "df_test = pd.read_parquet(os.path.join(\"..\", \"Datasets\", \"final_test.parquet\"))\n",
    "\n",
    "df_test = preprocess.fit_transform(df_test)\n",
    "predictions = model.predict(df_test)\n",
    "\n",
    "# Store predictions in pandas DataFrame:\n",
    "predictions = pd.DataFrame({'Id': range(0, len(predictions)), 'log_bike_count': predictions})\n",
    "\n",
    "\n",
    "# Specify the file path\n",
    "csv_file_path = 'submission.csv'\n",
    "\n",
    "# Write the DataFrame to a CSV file\n",
    "predictions.to_csv(csv_file_path, index=False)\n"
   ]
  }
 ],
 "metadata": {
  "kernelspec": {
   "display_name": "Python 3 (ipykernel)",
   "language": "python",
   "name": "python3"
  },
  "language_info": {
   "codemirror_mode": {
    "name": "ipython",
    "version": 3
   },
   "file_extension": ".py",
   "mimetype": "text/x-python",
   "name": "python",
   "nbconvert_exporter": "python",
   "pygments_lexer": "ipython3",
   "version": "3.11.4"
  }
 },
 "nbformat": 4,
 "nbformat_minor": 2
}
