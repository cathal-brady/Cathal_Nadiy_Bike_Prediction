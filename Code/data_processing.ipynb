{
 "cells": [
  {
   "cell_type": "code",
   "execution_count": 150,
   "metadata": {},
   "outputs": [],
   "source": [
    "import pandas as pd \n",
    "import numpy as np \n",
    "import os\n",
    "import datetime as dt\n",
    "import matplotlib.pyplot as plt\n",
    "import seaborn as sns\n",
    "sns.set(style = 'darkgrid')"
   ]
  },
  {
   "cell_type": "code",
   "execution_count": 151,
   "metadata": {},
   "outputs": [],
   "source": [
    "meteo_orly = pd.read_csv(os.path.join(\"..\", \"Datasets\", \"meteo_orly.csv\"))\n",
    "meteo_paris = pd.read_csv(os.path.join(\"..\", \"Datasets\", \"meteo_paris.csv\"))"
   ]
  },
  {
   "cell_type": "code",
   "execution_count": 152,
   "metadata": {},
   "outputs": [],
   "source": [
    "meteo_orly = meteo_orly[['date', 't', 'vv']] # Find out what vv is \n",
    "meteo_orly['t'] = (meteo_orly['t'] - 273.15)/15\n",
    "meteo_orly['vv'] = meteo_orly['vv']/150\n",
    "meteo_paris = meteo_paris[['datetime', 'precip']]\n"
   ]
  },
  {
   "cell_type": "code",
   "execution_count": 153,
   "metadata": {},
   "outputs": [
    {
     "data": {
      "text/plain": [
       "<Axes: xlabel='precip', ylabel='Count'>"
      ]
     },
     "execution_count": 153,
     "metadata": {},
     "output_type": "execute_result"
    },
    {
     "data": {
      "image/png": "[encoded data removed]",
      "text/plain": [
       "<Figure size 640x480 with 1 Axes>"
      ]
     },
     "metadata": {},
     "output_type": "display_data"
    }
   ],
   "source": [
    "sns.histplot(data = meteo_paris, x = 'precip')"
   ]
  },
  {
   "cell_type": "code",
   "execution_count": 154,
   "metadata": {},
   "outputs": [],
   "source": [
    "# Making 3 categories of precipitation \n",
    "# We ordinal encode them as there is some notion of ordering \n",
    "# Change categories as required\n",
    "\n",
    "conditions = [\n",
    "    (meteo_paris['precip'] == 0),\n",
    "    ((meteo_paris['precip'] > 0) & (meteo_paris['precip'] < 2)),\n",
    "    (meteo_paris['precip'] >= 2)\n",
    "]\n",
    "values = [1, 2, 3]\n",
    "\n",
    "meteo_paris['precipitation_level'] = np.select(conditions, values, default=0)\n",
    "\n",
    "meteo_paris.drop('precip', axis=1, inplace=True)"
   ]
  },
  {
   "cell_type": "code",
   "execution_count": 155,
   "metadata": {},
   "outputs": [],
   "source": [
    "\n",
    "meteo_orly['date'] = pd.to_datetime(meteo_orly['date'])\n",
    "meteo_orly['date_only'] = meteo_orly['date'].dt.date\n",
    "meteo_paris['date_only'] = pd.to_datetime(meteo_paris['datetime']).dt.date\n",
    "\n",
    "\n",
    "meteo = pd.merge(meteo_orly, meteo_paris, on='date_only', how='outer')\n",
    "\n",
    "# Dump unnecessary columns\n",
    "\n",
    "meteo.drop(['date_only', 'datetime'], axis=1, inplace=True)\n"
   ]
  },
  {
   "cell_type": "code",
   "execution_count": 162,
   "metadata": {},
   "outputs": [
    {
     "data": {
      "text/html": [
       "<div>\n",
       "<style scoped>\n",
       "    .dataframe tbody tr th:only-of-type {\n",
       "        vertical-align: middle;\n",
       "    }\n",
       "\n",
       "    .dataframe tbody tr th {\n",
       "        vertical-align: top;\n",
       "    }\n",
       "\n",
       "    .dataframe thead th {\n",
       "        text-align: right;\n",
       "    }\n",
       "</style>\n",
       "<table border=\"1\" class=\"dataframe\">\n",
       "  <thead>\n",
       "    <tr style=\"text-align: right;\">\n",
       "      <th></th>\n",
       "      <th>date</th>\n",
       "      <th>t</th>\n",
       "      <th>vv</th>\n",
       "      <th>date_only</th>\n",
       "    </tr>\n",
       "  </thead>\n",
       "  <tbody>\n",
       "    <tr>\n",
       "      <th>3317</th>\n",
       "      <td>2020-09-30 09:00:00</td>\n",
       "      <td>1.120000</td>\n",
       "      <td>120.000000</td>\n",
       "      <td>2020-09-30</td>\n",
       "    </tr>\n",
       "    <tr>\n",
       "      <th>3318</th>\n",
       "      <td>2020-09-30 12:00:00</td>\n",
       "      <td>1.260000</td>\n",
       "      <td>166.666667</td>\n",
       "      <td>2020-09-30</td>\n",
       "    </tr>\n",
       "    <tr>\n",
       "      <th>3319</th>\n",
       "      <td>2020-09-30 15:00:00</td>\n",
       "      <td>1.226667</td>\n",
       "      <td>166.666667</td>\n",
       "      <td>2020-09-30</td>\n",
       "    </tr>\n",
       "    <tr>\n",
       "      <th>3320</th>\n",
       "      <td>2020-09-30 18:00:00</td>\n",
       "      <td>1.133333</td>\n",
       "      <td>272.133333</td>\n",
       "      <td>2020-09-30</td>\n",
       "    </tr>\n",
       "    <tr>\n",
       "      <th>3321</th>\n",
       "      <td>2020-09-30 21:00:00</td>\n",
       "      <td>1.013333</td>\n",
       "      <td>168.333333</td>\n",
       "      <td>2020-09-30</td>\n",
       "    </tr>\n",
       "  </tbody>\n",
       "</table>\n",
       "</div>"
      ],
      "text/plain": [
       "                    date         t          vv   date_only\n",
       "3317 2020-09-30 09:00:00  1.120000  120.000000  2020-09-30\n",
       "3318 2020-09-30 12:00:00  1.260000  166.666667  2020-09-30\n",
       "3319 2020-09-30 15:00:00  1.226667  166.666667  2020-09-30\n",
       "3320 2020-09-30 18:00:00  1.133333  272.133333  2020-09-30\n",
       "3321 2020-09-30 21:00:00  1.013333  168.333333  2020-09-30"
      ]
     },
     "execution_count": 162,
     "metadata": {},
     "output_type": "execute_result"
    }
   ],
   "source": [
    "meteo_orly.tail()"
   ]
  },
  {
   "cell_type": "code",
   "execution_count": 161,
   "metadata": {},
   "outputs": [
    {
     "data": {
      "text/html": [
       "<div>\n",
       "<style scoped>\n",
       "    .dataframe tbody tr th:only-of-type {\n",
       "        vertical-align: middle;\n",
       "    }\n",
       "\n",
       "    .dataframe tbody tr th {\n",
       "        vertical-align: top;\n",
       "    }\n",
       "\n",
       "    .dataframe thead th {\n",
       "        text-align: right;\n",
       "    }\n",
       "</style>\n",
       "<table border=\"1\" class=\"dataframe\">\n",
       "  <thead>\n",
       "    <tr style=\"text-align: right;\">\n",
       "      <th></th>\n",
       "      <th>date</th>\n",
       "      <th>t</th>\n",
       "      <th>vv</th>\n",
       "      <th>precipitation_level</th>\n",
       "    </tr>\n",
       "  </thead>\n",
       "  <tbody>\n",
       "    <tr>\n",
       "      <th>0</th>\n",
       "      <td>2021-01-01 00:00:00</td>\n",
       "      <td>-0.026667</td>\n",
       "      <td>6.600000</td>\n",
       "      <td>2</td>\n",
       "    </tr>\n",
       "    <tr>\n",
       "      <th>1</th>\n",
       "      <td>2021-01-01 03:00:00</td>\n",
       "      <td>-0.126667</td>\n",
       "      <td>1.400000</td>\n",
       "      <td>2</td>\n",
       "    </tr>\n",
       "    <tr>\n",
       "      <th>2</th>\n",
       "      <td>2021-01-01 06:00:00</td>\n",
       "      <td>-0.080000</td>\n",
       "      <td>24.400000</td>\n",
       "      <td>2</td>\n",
       "    </tr>\n",
       "    <tr>\n",
       "      <th>3</th>\n",
       "      <td>2021-01-01 09:00:00</td>\n",
       "      <td>-0.046667</td>\n",
       "      <td>23.333333</td>\n",
       "      <td>2</td>\n",
       "    </tr>\n",
       "    <tr>\n",
       "      <th>4</th>\n",
       "      <td>2021-01-01 12:00:00</td>\n",
       "      <td>0.253333</td>\n",
       "      <td>53.333333</td>\n",
       "      <td>2</td>\n",
       "    </tr>\n",
       "  </tbody>\n",
       "</table>\n",
       "</div>"
      ],
      "text/plain": [
       "                 date         t         vv  precipitation_level\n",
       "0 2021-01-01 00:00:00 -0.026667   6.600000                    2\n",
       "1 2021-01-01 03:00:00 -0.126667   1.400000                    2\n",
       "2 2021-01-01 06:00:00 -0.080000  24.400000                    2\n",
       "3 2021-01-01 09:00:00 -0.046667  23.333333                    2\n",
       "4 2021-01-01 12:00:00  0.253333  53.333333                    2"
      ]
     },
     "execution_count": 161,
     "metadata": {},
     "output_type": "execute_result"
    }
   ],
   "source": [
    "meteo.head()\n",
    "\n",
    "# Note there is some NaNs in here as the date ranges dont really match up "
   ]
  },
  {
   "cell_type": "code",
   "execution_count": 157,
   "metadata": {},
   "outputs": [
    {
     "name": "stdout",
     "output_type": "stream",
     "text": [
      "2    1430\n",
      "1    1129\n",
      "3     803\n",
      "Name: precipitation_level, dtype: int64\n"
     ]
    }
   ],
   "source": [
    "#Classes are pretty balanced\n",
    "\n",
    "print(meteo['precipitation_level'].value_counts())\n"
   ]
  },
  {
   "cell_type": "markdown",
   "metadata": {},
   "source": [
    "## Now we look at Covid-19 cases"
   ]
  },
  {
   "cell_type": "code",
   "execution_count": null,
   "metadata": {},
   "outputs": [],
   "source": []
  }
 ],
 "metadata": {
  "kernelspec": {
   "display_name": "base",
   "language": "python",
   "name": "python3"
  },
  "language_info": {
   "codemirror_mode": {
    "name": "ipython",
    "version": 3
   },
   "file_extension": ".py",
   "mimetype": "text/x-python",
   "name": "python",
   "nbconvert_exporter": "python",
   "pygments_lexer": "ipython3",
   "version": "3.11.4"
  }
 },
 "nbformat": 4,
 "nbformat_minor": 2
}
