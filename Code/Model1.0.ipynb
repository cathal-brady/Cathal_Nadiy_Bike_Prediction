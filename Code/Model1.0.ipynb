{
 "cells": [
  {
   "cell_type": "code",
   "execution_count": 1,
   "metadata": {},
   "outputs": [],
   "source": [
    "import numpy as np\n",
    "import pandas as pd"
   ]
  },
  {
   "cell_type": "markdown",
   "metadata": {},
   "source": [
    "# Creating the Pre-Processor Pipeline: Initial DataFrame\n",
    "\n",
    "This Pipeline will have 4 steps:\n",
    "\n",
    "- ColumnSelector: We select the 'counter_id' and 'date' features\n",
    "- DateFormatter : Separate the datetime column into separate features.<br> We then drop the original 'date' column\n",
    "- HolidaysFR: Adding a binary feature for french holiday dates and weekends\n",
    "- EncodeCounter: OneHotEncoding the 'counter_id' feature and then drop the original column.\n",
    "- MergeWeather: Merging weather data from Orly and Paris"
   ]
  },
  {
   "cell_type": "code",
   "execution_count": 2,
   "metadata": {},
   "outputs": [],
   "source": [
    "from sklearn.base import BaseEstimator, TransformerMixin  \n",
    "#from sklearn.preprocessing import OneHotEncoder\n",
    "from sklearn.pipeline import Pipeline\n",
    "import holidays\n",
    "\n",
    "\n",
    "class ColumnSelector(BaseEstimator, TransformerMixin):\n",
    "\n",
    "    def fit(self, X, y=None):\n",
    "        return self\n",
    "    \n",
    "    def transform(self, X):\n",
    "        return X[['counter_id','date']]\n",
    "\n",
    "\n",
    "class DateFormatter(BaseEstimator, TransformerMixin):\n",
    "\n",
    "    def fit(self, X, y=None):\n",
    "        return self\n",
    "    \n",
    "    def transform(self, X):\n",
    "        X_copy = X.copy()\n",
    "        X_copy['date'] = pd.to_datetime(X_copy['date'])\n",
    "        X_copy['year'] = X_copy['date'].dt.year\n",
    "        X_copy['month'] = X_copy['date'].dt.month\n",
    "        #X_copy['week'] = X_copy['date'].dt.isocalendar().week\n",
    "        X_copy['weekday'] = (X_copy['date'].dt.dayofweek + 1)\n",
    "        #X_copy['day'] = X_copy['date'].dt.day\n",
    "        X_copy['hour'] = X_copy['date'].dt.hour\n",
    "        #X_copy['minute'] = X_copy['date'].dt.minute  # Not relevant\n",
    "        #X_copy.drop(columns='date', inplace=True)  # Will be dropped later, useful to keep to merge wither other dfs.\n",
    "        return X_copy\n",
    "\n",
    "\n",
    "class HolidaysFR(BaseEstimator, TransformerMixin):\n",
    "    def fit(self, X, y=None):\n",
    "        return self\n",
    "    \n",
    "    def transform(self, X):\n",
    "        is_holiday = lambda date: 1 if date in holidays.US() else 0\n",
    "        is_weekend = lambda day: 1 if day in (6,7) else 0\n",
    "        X_copy = X.copy()\n",
    "        X_copy['is_Holiday'] = X_copy['date'].apply(is_holiday)\n",
    "        X_copy['is_Weekend'] = X_copy['weekday'].apply(is_weekend)\n",
    "        #X_copy.drop(columns='date', inplace=True)\n",
    "        return X_copy\n",
    "\n",
    "\n",
    "class EncodeCounter(BaseEstimator, TransformerMixin):\n",
    "\n",
    "    def fit(self, X, y=None):\n",
    "        return self\n",
    "    \n",
    "    def transform(self, X):\n",
    "        X_copy = X.copy()\n",
    "        X_copy = pd.get_dummies(X_copy, columns=['counter_id'], dtype=int, drop_first=True)\n",
    "        return X_copy\n",
    "\n",
    "\n",
    "class MergeWeather(BaseEstimator, TransformerMixin):\n",
    "\n",
    "    def fit(self, X, y=None):\n",
    "        return self\n",
    "    \n",
    "    def transform(self, X):\n",
    "        data = pd.read_csv(os.path.join(\"..\", \"Datasets\", \"weather_data_cleaned\"))\n",
    "        data['date'] = pd.to_datetime(data['date']).astype('datetime64[us]')\n",
    "        merged_data = pd.merge_asof(X, data, on='date')\n",
    "        merged_data.drop(columns='date', inplace=True)\n",
    "        return merged_data\n",
    "\n",
    "\n",
    "preprocess = Pipeline([\n",
    "    (\"ColumnSelector\", ColumnSelector()),\n",
    "    (\"DateFormatter\", DateFormatter()),\n",
    "    (\"HolidaysFR\", HolidaysFR()),\n",
    "    (\"EncodeCounter\", EncodeCounter()),\n",
    "    (\"MergeWeather\", MergeWeather())\n",
    "])        \n",
    "        \n"
   ]
  },
  {
   "cell_type": "markdown",
   "metadata": {},
   "source": [
    "We now import and process the dataset.<br>Note: We sort the data by date before separating the target variable. This is required to merge the weather data using pd.merge.asof() to the nearest datetime value later on"
   ]
  },
  {
   "cell_type": "code",
   "execution_count": 3,
   "metadata": {},
   "outputs": [],
   "source": [
    "import os\n",
    "\n",
    "df = pd.read_parquet(os.path.join(\"..\", \"Datasets\", \"train.parquet\"))\n",
    "df = df.sort_values('date') # Sort by date "
   ]
  },
  {
   "cell_type": "code",
   "execution_count": 4,
   "metadata": {},
   "outputs": [],
   "source": [
    "X = preprocess.fit_transform(df)\n",
    "y = df['log_bike_count']"
   ]
  },
  {
   "cell_type": "code",
   "execution_count": 33,
   "metadata": {},
   "outputs": [
    {
     "name": "stdout",
     "output_type": "stream",
     "text": [
      "Root Mean Squared Error: 1.3765462951740082\n"
     ]
    }
   ],
   "source": [
    "# Import necessary libraries\n",
    "from sklearn.model_selection import train_test_split\n",
    "from sklearn.linear_model import LinearRegression\n",
    "from sklearn.metrics import mean_squared_error\n",
    "#from sklearn.model_selection import cross_val_score\n",
    "\n",
    "# Setting seed\n",
    "np.random.seed(42)\n",
    "\n",
    "# Split the data into training and testing sets\n",
    "X_train, X_test, y_train, y_test = train_test_split(X, y, test_size=0.2, random_state=42)\n",
    "\n",
    "# Initialize the Linear Regression model\n",
    "model = LinearRegression()\n",
    "\n",
    "# Fit the model on the training data\n",
    "model.fit(X_train, y_train)\n",
    "\n",
    "# Make predictions on the test set\n",
    "y_pred = model.predict(X_test)\n",
    "\n",
    "# Evaluate the model\n",
    "mse = mean_squared_error(y_test, y_pred)\n",
    "rmse = np.sqrt(mse)\n",
    "\n",
    "# Print the model coefficients and evaluation metrics\n",
    "#print(\"Coefficients:\", model.coef_)\n",
    "#print(\"Intercept:\", model.intercept_)\n",
    "print(\"Root Mean Squared Error:\", rmse)"
   ]
  },
  {
   "cell_type": "markdown",
   "metadata": {},
   "source": [
    "Now, let us train on the entire training set, and predict on the test set"
   ]
  },
  {
   "cell_type": "code",
   "execution_count": 6,
   "metadata": {},
   "outputs": [],
   "source": [
    "# Fit on the full train set:\n",
    "X = preprocess.fit_transform(df)\n",
    "y = df['log_bike_count']\n",
    "\n",
    "# Initialize the Linear Regression model\n",
    "model = LinearRegression()\n",
    "\n",
    "# Fit the model on the training data\n",
    "model.fit(X,y)\n",
    "\n",
    "# Import test set\n",
    "df_test = pd.read_parquet(os.path.join(\"..\", \"Datasets\", \"final_test.parquet\"))\n",
    "df_test = df_test.sort_values('date') # Sort by date \n",
    "new_order = df_test.index.tolist() #Keep index order\n",
    "\n",
    "\n",
    "df_test = preprocess.transform(df_test)\n",
    "predictions = model.predict(df_test)\n",
    "predictions_df = pd.DataFrame({'Id': new_order, 'log_bike_count': predictions})\n",
    "predictions_df = predictions_df.sort_values('Id')\n",
    "\n",
    "# Specify the file path\n",
    "csv_file_path = 'submission.csv'\n",
    "\n",
    "# Write the DataFrame to a CSV file\n",
    "predictions_df.to_csv(csv_file_path, index=False)\n"
   ]
  }
 ],
 "metadata": {
  "kernelspec": {
   "display_name": "Python 3 (ipykernel)",
   "language": "python",
   "name": "python3"
  },
  "language_info": {
   "codemirror_mode": {
    "name": "ipython",
    "version": 3
   },
   "file_extension": ".py",
   "mimetype": "text/x-python",
   "name": "python",
   "nbconvert_exporter": "python",
   "pygments_lexer": "ipython3",
   "version": "3.11.4"
  }
 },
 "nbformat": 4,
 "nbformat_minor": 2
}
